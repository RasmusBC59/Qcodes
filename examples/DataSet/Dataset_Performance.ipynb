{
 "cells": [
  {
   "cell_type": "markdown",
   "metadata": {},
   "source": [
    "# DataSet Performance\n",
    "\n",
    "This notebook shows the trade-off between inserting data into a database row-by-row and as binary blobs. Inserting the data row-by-row means that we have direct access to all the data and may perform queries directly on the values of the data. On the other hand, as we shall see, this is much slower than inserting the data directly as binary blobs."
   ]
  },
  {
   "cell_type": "markdown",
   "metadata": {},
   "source": [
    "First, we choose a new location for the database to ensure that we don't add a bunch of benchmarking data to the default one."
   ]
  },
  {
   "cell_type": "code",
   "execution_count": 1,
   "metadata": {
    "execution": {
     "iopub.execute_input": "2023-08-10T12:32:11.806552Z",
     "iopub.status.busy": "2023-08-10T12:32:11.806286Z",
     "iopub.status.idle": "2023-08-10T12:32:12.154578Z",
     "shell.execute_reply": "2023-08-10T12:32:12.153790Z"
    }
   },
   "outputs": [],
   "source": [
    "import os\n",
    "\n",
    "cwd = os.getcwd()\n",
    "import qcodes as qc\n",
    "\n",
    "qc.config[\"core\"][\"db_location\"] = os.path.join(cwd, 'testing.db')"
   ]
  },
  {
   "cell_type": "code",
   "execution_count": 2,
   "metadata": {
    "execution": {
     "iopub.execute_input": "2023-08-10T12:32:12.158537Z",
     "iopub.status.busy": "2023-08-10T12:32:12.158045Z",
     "iopub.status.idle": "2023-08-10T12:32:12.516287Z",
     "shell.execute_reply": "2023-08-10T12:32:12.515481Z"
    }
   },
   "outputs": [],
   "source": [
    "%matplotlib inline\n",
    "import time\n",
    "\n",
    "import matplotlib.pyplot as plt\n",
    "import numpy as np\n",
    "\n",
    "import qcodes as qc\n",
    "from qcodes.dataset import (\n",
    "    Measurement,\n",
    "    initialise_database,\n",
    "    load_last_experiment,\n",
    "    load_or_create_experiment,\n",
    "    new_experiment,\n",
    ")\n",
    "from qcodes.dataset.experiment_container import Experiment\n",
    "from qcodes.parameters import ManualParameter"
   ]
  },
  {
   "cell_type": "code",
   "execution_count": 3,
   "metadata": {
    "execution": {
     "iopub.execute_input": "2023-08-10T12:32:12.520789Z",
     "iopub.status.busy": "2023-08-10T12:32:12.520261Z",
     "iopub.status.idle": "2023-08-10T12:32:12.559730Z",
     "shell.execute_reply": "2023-08-10T12:32:12.558935Z"
    }
   },
   "outputs": [],
   "source": [
    "initialise_database()\n",
    "exp = load_or_create_experiment(experiment_name='tutorial_exp', sample_name=\"no sample\")"
   ]
  },
  {
   "cell_type": "markdown",
   "metadata": {},
   "source": [
    "Here, we define a simple function to benchmark the time it takes to insert n points with either numeric or array data type.\n",
    "We will compare both the time used to call ``add_result`` and the time used for the full measurement."
   ]
  },
  {
   "cell_type": "code",
   "execution_count": 4,
   "metadata": {
    "execution": {
     "iopub.execute_input": "2023-08-10T12:32:12.563913Z",
     "iopub.status.busy": "2023-08-10T12:32:12.563305Z",
     "iopub.status.idle": "2023-08-10T12:32:12.572267Z",
     "shell.execute_reply": "2023-08-10T12:32:12.571557Z"
    }
   },
   "outputs": [],
   "source": [
    "def insert_data(paramtype, npoints, nreps=1):\n",
    "\n",
    "    meas = Measurement(exp=exp)\n",
    "\n",
    "    x1 = ManualParameter('x1')\n",
    "    x2 = ManualParameter('x2')\n",
    "    x3 = ManualParameter('x3')\n",
    "    y1 = ManualParameter('y1')\n",
    "    y2 = ManualParameter('y2')\n",
    "\n",
    "    meas.register_parameter(x1, paramtype=paramtype)\n",
    "    meas.register_parameter(x2, paramtype=paramtype)\n",
    "    meas.register_parameter(x3, paramtype=paramtype)\n",
    "    meas.register_parameter(y1, setpoints=[x1, x2, x3],\n",
    "                            paramtype=paramtype)\n",
    "    meas.register_parameter(y2, setpoints=[x1, x2, x3],\n",
    "                            paramtype=paramtype)\n",
    "    start = time.perf_counter()\n",
    "    with meas.run() as datasaver:\n",
    "        start_adding = time.perf_counter()\n",
    "        for i in range(nreps):\n",
    "            datasaver.add_result((x1, np.random.rand(npoints)),\n",
    "                                 (x2, np.random.rand(npoints)),\n",
    "                                 (x3, np.random.rand(npoints)),\n",
    "                                 (y1, np.random.rand(npoints)),\n",
    "                                 (y2, np.random.rand(npoints)))\n",
    "        stop_adding = time.perf_counter()\n",
    "        run_id = datasaver.run_id\n",
    "    stop = time.perf_counter()\n",
    "    tot_time = stop - start\n",
    "    add_time = stop_adding - start_adding\n",
    "    return tot_time, add_time, run_id"
   ]
  },
  {
   "cell_type": "markdown",
   "metadata": {},
   "source": [
    "## Comparison between numeric/array data and binary blob"
   ]
  },
  {
   "cell_type": "markdown",
   "metadata": {},
   "source": [
    "### Case1: Short experiment time"
   ]
  },
  {
   "cell_type": "code",
   "execution_count": 5,
   "metadata": {
    "execution": {
     "iopub.execute_input": "2023-08-10T12:32:12.575658Z",
     "iopub.status.busy": "2023-08-10T12:32:12.575183Z",
     "iopub.status.idle": "2023-08-10T12:32:13.138598Z",
     "shell.execute_reply": "2023-08-10T12:32:13.137867Z"
    }
   },
   "outputs": [
    {
     "name": "stdout",
     "output_type": "stream",
     "text": [
      "Starting experimental run with id: 1. \n",
      "Starting experimental run with id: 2. \n",
      "Starting experimental run with id: 3. \n",
      "Starting experimental run with id: 4. \n",
      "Starting experimental run with id: 5. \n",
      "Starting experimental run with id: 6. \n",
      "Starting experimental run with id: 7. \n"
     ]
    },
    {
     "name": "stdout",
     "output_type": "stream",
     "text": [
      "Starting experimental run with id: 8. \n",
      "Starting experimental run with id: 9. \n",
      "Starting experimental run with id: 10. \n",
      "Starting experimental run with id: 11. \n",
      "Starting experimental run with id: 12. \n",
      "Starting experimental run with id: 13. \n"
     ]
    },
    {
     "name": "stdout",
     "output_type": "stream",
     "text": [
      "Starting experimental run with id: 14. \n"
     ]
    }
   ],
   "source": [
    "sizes = [1,500,1000,2000,3000,4000,5000]\n",
    "t_numeric = []\n",
    "t_numeric_add = []\n",
    "t_array = []\n",
    "t_array_add = []\n",
    "for size in sizes:\n",
    "    tn, tna, run_id_n =  insert_data('numeric', size)\n",
    "    t_numeric.append(tn)\n",
    "    t_numeric_add.append(tna)\n",
    "\n",
    "    ta, taa, run_id_a =  insert_data('array', size)\n",
    "    t_array.append(ta)\n",
    "    t_array_add.append(taa)"
   ]
  },
  {
   "cell_type": "code",
   "execution_count": 6,
   "metadata": {
    "execution": {
     "iopub.execute_input": "2023-08-10T12:32:13.142333Z",
     "iopub.status.busy": "2023-08-10T12:32:13.141934Z",
     "iopub.status.idle": "2023-08-10T12:32:13.388754Z",
     "shell.execute_reply": "2023-08-10T12:32:13.387994Z"
    }
   },
   "outputs": [
    {
     "data": {
      "image/png": "[encoded data removed]",
      "text/plain": [
       "<Figure size 640x480 with 1 Axes>"
      ]
     },
     "metadata": {},
     "output_type": "display_data"
    }
   ],
   "source": [
    "fig, ax = plt.subplots(1,1)\n",
    "ax.plot(sizes, t_numeric, 'o-', label='Inserting row-by-row')\n",
    "ax.plot(sizes, t_numeric_add, 'o-', label='Inserting row-by-row: add_result only')\n",
    "ax.plot(sizes, t_array, 'd-', label='Inserting as binary blob')\n",
    "ax.plot(sizes, t_array_add, 'd-', label='Inserting as binary blob: add_result only')\n",
    "ax.legend()\n",
    "ax.set_xlabel('Array length')\n",
    "ax.set_ylabel('Time (s)')\n",
    "fig.tight_layout()"
   ]
  },
  {
   "cell_type": "markdown",
   "metadata": {},
   "source": [
    "As shown in the latter figure, the time to setup and and close the experiment is approximately 0.4 sec. In case of small array sizes, the difference between inserting values of data as arrays and inserting them row-by-row is relatively unimportant. At larger array sizes, i.e. above 10000 points, the cost of writing data as individual datapoints starts to become important.\n"
   ]
  },
  {
   "cell_type": "markdown",
   "metadata": {},
   "source": [
    "### Case2: Long experiment time "
   ]
  },
  {
   "cell_type": "code",
   "execution_count": 7,
   "metadata": {
    "execution": {
     "iopub.execute_input": "2023-08-10T12:32:13.392095Z",
     "iopub.status.busy": "2023-08-10T12:32:13.391637Z",
     "iopub.status.idle": "2023-08-10T12:32:45.099688Z",
     "shell.execute_reply": "2023-08-10T12:32:45.098916Z"
    }
   },
   "outputs": [
    {
     "name": "stdout",
     "output_type": "stream",
     "text": [
      "Starting experimental run with id: 15. \n",
      "Starting experimental run with id: 16. \n",
      "Starting experimental run with id: 17. \n"
     ]
    },
    {
     "name": "stdout",
     "output_type": "stream",
     "text": [
      "Starting experimental run with id: 18. \n",
      "Starting experimental run with id: 19. \n"
     ]
    },
    {
     "name": "stdout",
     "output_type": "stream",
     "text": [
      "Starting experimental run with id: 20. \n",
      "Starting experimental run with id: 21. \n"
     ]
    },
    {
     "name": "stdout",
     "output_type": "stream",
     "text": [
      "Starting experimental run with id: 22. \n"
     ]
    },
    {
     "name": "stdout",
     "output_type": "stream",
     "text": [
      "Starting experimental run with id: 23. \n"
     ]
    },
    {
     "name": "stdout",
     "output_type": "stream",
     "text": [
      "Starting experimental run with id: 24. \n"
     ]
    },
    {
     "name": "stdout",
     "output_type": "stream",
     "text": [
      "Starting experimental run with id: 25. \n"
     ]
    },
    {
     "name": "stdout",
     "output_type": "stream",
     "text": [
      "Starting experimental run with id: 26. \n"
     ]
    },
    {
     "name": "stdout",
     "output_type": "stream",
     "text": [
      "Starting experimental run with id: 27. \n"
     ]
    },
    {
     "name": "stdout",
     "output_type": "stream",
     "text": [
      "Starting experimental run with id: 28. \n"
     ]
    }
   ],
   "source": [
    "sizes = [1,500,1000,2000,3000,4000,5000]\n",
    "nreps = 100\n",
    "t_numeric = []\n",
    "t_numeric_add = []\n",
    "t_numeric_run_ids = []\n",
    "t_array = []\n",
    "t_array_add = []\n",
    "t_array_run_ids = []\n",
    "for size in sizes:\n",
    "    tn, tna, run_id_n =  insert_data('numeric', size, nreps=nreps)\n",
    "    t_numeric.append(tn)\n",
    "    t_numeric_add.append(tna)\n",
    "    t_numeric_run_ids.append(run_id_n)\n",
    "\n",
    "    ta, taa, run_id_a =  insert_data('array', size, nreps=nreps)\n",
    "    t_array.append(ta)\n",
    "    t_array_add.append(taa)\n",
    "    t_array_run_ids.append(run_id_a)"
   ]
  },
  {
   "cell_type": "code",
   "execution_count": 8,
   "metadata": {
    "execution": {
     "iopub.execute_input": "2023-08-10T12:32:45.103606Z",
     "iopub.status.busy": "2023-08-10T12:32:45.103119Z",
     "iopub.status.idle": "2023-08-10T12:32:45.331600Z",
     "shell.execute_reply": "2023-08-10T12:32:45.330805Z"
    },
    "scrolled": true
   },
   "outputs": [
    {
     "data": {
      "image/png": "[encoded data removed]",
      "text/plain": [
       "<Figure size 640x480 with 1 Axes>"
      ]
     },
     "metadata": {},
     "output_type": "display_data"
    }
   ],
   "source": [
    "fig, ax = plt.subplots(1,1)\n",
    "ax.plot(sizes, t_numeric, 'o-', label='Inserting row-by-row')\n",
    "ax.plot(sizes, t_numeric_add, 'o-', label='Inserting row-by-row: add_result only')\n",
    "ax.plot(sizes, t_array, 'd-', label='Inserting as binary blob')\n",
    "ax.plot(sizes, t_array_add, 'd-', label='Inserting as binary blob: add_result only')\n",
    "ax.legend()\n",
    "ax.set_xlabel('Array length')\n",
    "ax.set_ylabel('Time (s)')\n",
    "fig.tight_layout()"
   ]
  },
  {
   "cell_type": "markdown",
   "metadata": {},
   "source": [
    "However, as we increase the length of the experiment, as seen here by repeating the insertion 100 times, we see a big difference between inserting values of the data row-by-row and inserting it as a binary blob."
   ]
  },
  {
   "cell_type": "markdown",
   "metadata": {},
   "source": [
    "## Loading the data "
   ]
  },
  {
   "cell_type": "code",
   "execution_count": 9,
   "metadata": {
    "execution": {
     "iopub.execute_input": "2023-08-10T12:32:45.335316Z",
     "iopub.status.busy": "2023-08-10T12:32:45.334826Z",
     "iopub.status.idle": "2023-08-10T12:32:45.338483Z",
     "shell.execute_reply": "2023-08-10T12:32:45.337770Z"
    }
   },
   "outputs": [],
   "source": [
    "from qcodes.dataset import load_by_id"
   ]
  },
  {
   "cell_type": "markdown",
   "metadata": {},
   "source": [
    "As usual you can load the data by using the ``load_by_id`` function but you will notice that the different storage methods\n",
    "are reflected in shape of the data as it is retrieved. "
   ]
  },
  {
   "cell_type": "code",
   "execution_count": 10,
   "metadata": {
    "execution": {
     "iopub.execute_input": "2023-08-10T12:32:45.341556Z",
     "iopub.status.busy": "2023-08-10T12:32:45.341305Z",
     "iopub.status.idle": "2023-08-10T12:32:45.344738Z",
     "shell.execute_reply": "2023-08-10T12:32:45.344050Z"
    }
   },
   "outputs": [],
   "source": [
    "run_id_n = t_numeric_run_ids[0]\n",
    "run_id_a = t_array_run_ids[0]"
   ]
  },
  {
   "cell_type": "code",
   "execution_count": 11,
   "metadata": {
    "execution": {
     "iopub.execute_input": "2023-08-10T12:32:45.347716Z",
     "iopub.status.busy": "2023-08-10T12:32:45.347339Z",
     "iopub.status.idle": "2023-08-10T12:32:45.356669Z",
     "shell.execute_reply": "2023-08-10T12:32:45.355949Z"
    },
    "scrolled": true
   },
   "outputs": [
    {
     "data": {
      "text/plain": [
       "{'x1': {'x1': array([0.19037419, 0.19037419, 0.60175458, 0.60175458, 0.99953707,\n",
       "         0.99953707, 0.57458568, 0.57458568, 0.5332693 , 0.5332693 ,\n",
       "         0.4919369 , 0.4919369 , 0.82826426, 0.82826426, 0.97393012,\n",
       "         0.97393012, 0.76733013, 0.76733013, 0.20070735, 0.20070735,\n",
       "         0.67500928, 0.67500928, 0.79819016, 0.79819016, 0.95819736,\n",
       "         0.95819736, 0.23089744, 0.23089744, 0.00234903, 0.00234903,\n",
       "         0.10280197, 0.10280197, 0.88090149, 0.88090149, 0.55948776,\n",
       "         0.55948776, 0.88375326, 0.88375326, 0.49075111, 0.49075111,\n",
       "         0.57498362, 0.57498362, 0.22016599, 0.22016599, 0.60178281,\n",
       "         0.60178281, 0.59243832, 0.59243832, 0.55520211, 0.55520211,\n",
       "         0.33278894, 0.33278894, 0.88666292, 0.88666292, 0.44229369,\n",
       "         0.44229369, 0.70430466, 0.70430466, 0.38015952, 0.38015952,\n",
       "         0.37522369, 0.37522369, 0.92451795, 0.92451795, 0.23314766,\n",
       "         0.23314766, 0.60383906, 0.60383906, 0.69855634, 0.69855634,\n",
       "         0.74831692, 0.74831692, 0.24854328, 0.24854328, 0.18670514,\n",
       "         0.18670514, 0.28865088, 0.28865088, 0.48293868, 0.48293868,\n",
       "         0.47894496, 0.47894496, 0.60294221, 0.60294221, 0.90640397,\n",
       "         0.90640397, 0.15173626, 0.15173626, 0.60023882, 0.60023882,\n",
       "         0.58353461, 0.58353461, 0.92889622, 0.92889622, 0.82640571,\n",
       "         0.82640571, 0.32498075, 0.32498075, 0.53020963, 0.53020963,\n",
       "         0.02662103, 0.02662103, 0.84472835, 0.84472835, 0.07328557,\n",
       "         0.07328557, 0.68544882, 0.68544882, 0.66415477, 0.66415477,\n",
       "         0.96107704, 0.96107704, 0.48075125, 0.48075125, 0.94246385,\n",
       "         0.94246385, 0.81005103, 0.81005103, 0.49382821, 0.49382821,\n",
       "         0.2561123 , 0.2561123 , 0.72859667, 0.72859667, 0.04917582,\n",
       "         0.04917582, 0.66133   , 0.66133   , 0.59231695, 0.59231695,\n",
       "         0.72950224, 0.72950224, 0.6519424 , 0.6519424 , 0.22213387,\n",
       "         0.22213387, 0.31767325, 0.31767325, 0.30692455, 0.30692455,\n",
       "         0.16898063, 0.16898063, 0.00506643, 0.00506643, 0.67270521,\n",
       "         0.67270521, 0.73535383, 0.73535383, 0.5256671 , 0.5256671 ,\n",
       "         0.83184087, 0.83184087, 0.16456037, 0.16456037, 0.20794032,\n",
       "         0.20794032, 0.48730565, 0.48730565, 0.91984523, 0.91984523,\n",
       "         0.5873087 , 0.5873087 , 0.85781999, 0.85781999, 0.04130086,\n",
       "         0.04130086, 0.62879347, 0.62879347, 0.76643581, 0.76643581,\n",
       "         0.43017156, 0.43017156, 0.82149755, 0.82149755, 0.84971797,\n",
       "         0.84971797, 0.19679702, 0.19679702, 0.82186625, 0.82186625,\n",
       "         0.52833999, 0.52833999, 0.21930465, 0.21930465, 0.79281381,\n",
       "         0.79281381, 0.23608021, 0.23608021, 0.75878465, 0.75878465,\n",
       "         0.250486  , 0.250486  , 0.58015029, 0.58015029, 0.25803865,\n",
       "         0.25803865, 0.69440844, 0.69440844, 0.73102599, 0.73102599])}}"
      ]
     },
     "execution_count": 11,
     "metadata": {},
     "output_type": "execute_result"
    }
   ],
   "source": [
    "ds = load_by_id(run_id_n)\n",
    "ds.get_parameter_data('x1')"
   ]
  },
  {
   "cell_type": "markdown",
   "metadata": {},
   "source": [
    "And a dataset stored as binary arrays"
   ]
  },
  {
   "cell_type": "code",
   "execution_count": 12,
   "metadata": {
    "execution": {
     "iopub.execute_input": "2023-08-10T12:32:45.359937Z",
     "iopub.status.busy": "2023-08-10T12:32:45.359679Z",
     "iopub.status.idle": "2023-08-10T12:32:45.382181Z",
     "shell.execute_reply": "2023-08-10T12:32:45.381267Z"
    },
    "scrolled": true
   },
   "outputs": [
    {
     "data": {
      "text/plain": [
       "{'x1': {'x1': array([[0.05569768],\n",
       "         [0.05569768],\n",
       "         [0.55141215],\n",
       "         [0.55141215],\n",
       "         [0.49376703],\n",
       "         [0.49376703],\n",
       "         [0.2235712 ],\n",
       "         [0.2235712 ],\n",
       "         [0.54634832],\n",
       "         [0.54634832],\n",
       "         [0.6714018 ],\n",
       "         [0.6714018 ],\n",
       "         [0.76756938],\n",
       "         [0.76756938],\n",
       "         [0.46314692],\n",
       "         [0.46314692],\n",
       "         [0.75172606],\n",
       "         [0.75172606],\n",
       "         [0.44749279],\n",
       "         [0.44749279],\n",
       "         [0.43959849],\n",
       "         [0.43959849],\n",
       "         [0.62443619],\n",
       "         [0.62443619],\n",
       "         [0.83130494],\n",
       "         [0.83130494],\n",
       "         [0.93082061],\n",
       "         [0.93082061],\n",
       "         [0.90767046],\n",
       "         [0.90767046],\n",
       "         [0.89039801],\n",
       "         [0.89039801],\n",
       "         [0.54688209],\n",
       "         [0.54688209],\n",
       "         [0.87514663],\n",
       "         [0.87514663],\n",
       "         [0.63046947],\n",
       "         [0.63046947],\n",
       "         [0.5134358 ],\n",
       "         [0.5134358 ],\n",
       "         [0.84291979],\n",
       "         [0.84291979],\n",
       "         [0.46037284],\n",
       "         [0.46037284],\n",
       "         [0.84424117],\n",
       "         [0.84424117],\n",
       "         [0.56356647],\n",
       "         [0.56356647],\n",
       "         [0.07955651],\n",
       "         [0.07955651],\n",
       "         [0.62183915],\n",
       "         [0.62183915],\n",
       "         [0.85093891],\n",
       "         [0.85093891],\n",
       "         [0.32548755],\n",
       "         [0.32548755],\n",
       "         [0.37468441],\n",
       "         [0.37468441],\n",
       "         [0.37651234],\n",
       "         [0.37651234],\n",
       "         [0.48700993],\n",
       "         [0.48700993],\n",
       "         [0.5208079 ],\n",
       "         [0.5208079 ],\n",
       "         [0.80952221],\n",
       "         [0.80952221],\n",
       "         [0.57962189],\n",
       "         [0.57962189],\n",
       "         [0.79743632],\n",
       "         [0.79743632],\n",
       "         [0.90902972],\n",
       "         [0.90902972],\n",
       "         [0.38098788],\n",
       "         [0.38098788],\n",
       "         [0.34312816],\n",
       "         [0.34312816],\n",
       "         [0.54080963],\n",
       "         [0.54080963],\n",
       "         [0.82993457],\n",
       "         [0.82993457],\n",
       "         [0.83339612],\n",
       "         [0.83339612],\n",
       "         [0.91810966],\n",
       "         [0.91810966],\n",
       "         [0.98789782],\n",
       "         [0.98789782],\n",
       "         [0.86589262],\n",
       "         [0.86589262],\n",
       "         [0.25731897],\n",
       "         [0.25731897],\n",
       "         [0.17444288],\n",
       "         [0.17444288],\n",
       "         [0.93747143],\n",
       "         [0.93747143],\n",
       "         [0.44704053],\n",
       "         [0.44704053],\n",
       "         [0.52839928],\n",
       "         [0.52839928],\n",
       "         [0.24182626],\n",
       "         [0.24182626],\n",
       "         [0.96110112],\n",
       "         [0.96110112],\n",
       "         [0.75226172],\n",
       "         [0.75226172],\n",
       "         [0.44513891],\n",
       "         [0.44513891],\n",
       "         [0.92324955],\n",
       "         [0.92324955],\n",
       "         [0.69973445],\n",
       "         [0.69973445],\n",
       "         [0.60389313],\n",
       "         [0.60389313],\n",
       "         [0.38796179],\n",
       "         [0.38796179],\n",
       "         [0.16397904],\n",
       "         [0.16397904],\n",
       "         [0.78717479],\n",
       "         [0.78717479],\n",
       "         [0.16633507],\n",
       "         [0.16633507],\n",
       "         [0.29940174],\n",
       "         [0.29940174],\n",
       "         [0.73496823],\n",
       "         [0.73496823],\n",
       "         [0.67057591],\n",
       "         [0.67057591],\n",
       "         [0.22156561],\n",
       "         [0.22156561],\n",
       "         [0.04903635],\n",
       "         [0.04903635],\n",
       "         [0.67453234],\n",
       "         [0.67453234],\n",
       "         [0.91506892],\n",
       "         [0.91506892],\n",
       "         [0.95181757],\n",
       "         [0.95181757],\n",
       "         [0.98093797],\n",
       "         [0.98093797],\n",
       "         [0.75828309],\n",
       "         [0.75828309],\n",
       "         [0.89754238],\n",
       "         [0.89754238],\n",
       "         [0.25241158],\n",
       "         [0.25241158],\n",
       "         [0.16167064],\n",
       "         [0.16167064],\n",
       "         [0.77597693],\n",
       "         [0.77597693],\n",
       "         [0.31169081],\n",
       "         [0.31169081],\n",
       "         [0.05589242],\n",
       "         [0.05589242],\n",
       "         [0.19610515],\n",
       "         [0.19610515],\n",
       "         [0.43555653],\n",
       "         [0.43555653],\n",
       "         [0.49152077],\n",
       "         [0.49152077],\n",
       "         [0.60227183],\n",
       "         [0.60227183],\n",
       "         [0.13195454],\n",
       "         [0.13195454],\n",
       "         [0.55929416],\n",
       "         [0.55929416],\n",
       "         [0.57818766],\n",
       "         [0.57818766],\n",
       "         [0.63999087],\n",
       "         [0.63999087],\n",
       "         [0.06570612],\n",
       "         [0.06570612],\n",
       "         [0.01060949],\n",
       "         [0.01060949],\n",
       "         [0.09506739],\n",
       "         [0.09506739],\n",
       "         [0.61031531],\n",
       "         [0.61031531],\n",
       "         [0.49716688],\n",
       "         [0.49716688],\n",
       "         [0.3291415 ],\n",
       "         [0.3291415 ],\n",
       "         [0.34166409],\n",
       "         [0.34166409],\n",
       "         [0.77782216],\n",
       "         [0.77782216],\n",
       "         [0.22613294],\n",
       "         [0.22613294],\n",
       "         [0.54326668],\n",
       "         [0.54326668],\n",
       "         [0.79987804],\n",
       "         [0.79987804],\n",
       "         [0.32667215],\n",
       "         [0.32667215],\n",
       "         [0.82472336],\n",
       "         [0.82472336],\n",
       "         [0.67683948],\n",
       "         [0.67683948],\n",
       "         [0.53045962],\n",
       "         [0.53045962],\n",
       "         [0.17917268],\n",
       "         [0.17917268]])}}"
      ]
     },
     "execution_count": 12,
     "metadata": {},
     "output_type": "execute_result"
    }
   ],
   "source": [
    "ds = load_by_id(run_id_a)\n",
    "ds.get_parameter_data('x1')"
   ]
  },
  {
   "cell_type": "code",
   "execution_count": null,
   "metadata": {},
   "outputs": [],
   "source": []
  }
 ],
 "metadata": {
  "kernelspec": {
   "display_name": "Python 3",
   "language": "python",
   "name": "python3"
  },
  "language_info": {
   "codemirror_mode": {
    "name": "ipython",
    "version": 3
   },
   "file_extension": ".py",
   "mimetype": "text/x-python",
   "name": "python",
   "nbconvert_exporter": "python",
   "pygments_lexer": "ipython3",
   "version": "3.10.12"
  },
  "nbsphinx": {
   "timeout": 600
  },
  "toc": {
   "base_numbering": 1,
   "nav_menu": {},
   "number_sections": true,
   "sideBar": true,
   "skip_h1_title": false,
   "title_cell": "Table of Contents",
   "title_sidebar": "Contents",
   "toc_cell": false,
   "toc_position": {},
   "toc_section_display": true,
   "toc_window_display": false
  },
  "varInspector": {
   "cols": {
    "lenName": 16,
    "lenType": 16,
    "lenVar": 40
   },
   "kernels_config": {
    "python": {
     "delete_cmd_postfix": "",
     "delete_cmd_prefix": "del ",
     "library": "var_list.py",
     "varRefreshCmd": "print(var_dic_list())"
    },
    "r": {
     "delete_cmd_postfix": ") ",
     "delete_cmd_prefix": "rm(",
     "library": "var_list.r",
     "varRefreshCmd": "cat(var_dic_list()) "
    }
   },
   "types_to_exclude": [
    "module",
    "function",
    "builtin_function_or_method",
    "instance",
    "_Feature"
   ],
   "window_display": false
  }
 },
 "nbformat": 4,
 "nbformat_minor": 4
}
