{
 "cells": [
  {
   "cell_type": "markdown",
   "id": "plain-primary",
   "metadata": {},
   "source": [
    "# Qcodes example with DelegateInstrument driver\n",
    "\n",
    "This notebooks explains how to use the `DelegateInstrument` driver.\n",
    "\n",
    "## About\n",
    "The goal of the `DelegateInstrument` driver is to make it easier to combine different parameters together into a new \"virtual\" instrument. Each parameter on a `DelegateInstrument` can point to one or more parameters on other instruments in the station.\n",
    "\n",
    "## Usage\n",
    "The way it's used is mainly by specifying an entry in the station YAML. For instance, let's say you want to use a magnetic field coil. The driver has a method set_field(value, block), that by default is set to block=True, which means the field is ramped in a way that blocks further execution until the desired value is reached. However, let's say you are creating a measurement in which you want the parameter to be set, and while the value is ramping, you want to measure other parameters. This can be done by using `DelegateInstrument` and specifying a custom `setter` for the parameter that gets and sets the magnetic field.\n",
    "\n",
    "By default, each parameter is represented by a `DelegateParameter`. The `DelegateInstrument` also supports passing multiple source parameters to a given parameter. In order to do this, simply specify multiple parameters in the dictionary values  under the `parameters` key.\n",
    "\n",
    "It can also add instrument channels, specified under a separate key `channels`, shown in the second half of the notebook."
   ]
  },
  {
   "cell_type": "code",
   "execution_count": 1,
   "id": "sapphire-quebec",
   "metadata": {
    "execution": {
     "iopub.execute_input": "2023-08-10T12:38:21.526638Z",
     "iopub.status.busy": "2023-08-10T12:38:21.526389Z",
     "iopub.status.idle": "2023-08-10T12:38:21.535250Z",
     "shell.execute_reply": "2023-08-10T12:38:21.534520Z"
    }
   },
   "outputs": [
    {
     "name": "stdout",
     "output_type": "stream",
     "text": [
      "Writing example.yaml\n"
     ]
    }
   ],
   "source": [
    "%%writefile example.yaml\n",
    "\n",
    "instruments:\n",
    "  field_X:\n",
    "    type: qcodes.tests.instrument_mocks.MockField\n",
    "\n",
    "  field:\n",
    "    type: qcodes.instrument.delegate.DelegateInstrument\n",
    "    init:\n",
    "      parameters:\n",
    "        X:\n",
    "          - field_X.field\n",
    "        ramp_rate:\n",
    "          - field_X.ramp_rate\n",
    "        combined:\n",
    "          - field_X.field\n",
    "          - field_X.ramp_rate\n",
    "      set_initial_values_on_load: true\n",
    "      initial_values:\n",
    "        ramp_rate: 1.0\n",
    "      setters:\n",
    "        X:\n",
    "          method: field_X.set_field\n",
    "          block: false"
   ]
  },
  {
   "cell_type": "code",
   "execution_count": 2,
   "id": "younger-newspaper",
   "metadata": {
    "execution": {
     "iopub.execute_input": "2023-08-10T12:38:21.538806Z",
     "iopub.status.busy": "2023-08-10T12:38:21.538270Z",
     "iopub.status.idle": "2023-08-10T12:38:21.882281Z",
     "shell.execute_reply": "2023-08-10T12:38:21.881480Z"
    }
   },
   "outputs": [],
   "source": [
    "import qcodes as qc\n",
    "from qcodes.dataset import Measurement"
   ]
  },
  {
   "cell_type": "code",
   "execution_count": 3,
   "id": "muslim-briefs",
   "metadata": {
    "execution": {
     "iopub.execute_input": "2023-08-10T12:38:21.886444Z",
     "iopub.status.busy": "2023-08-10T12:38:21.885868Z",
     "iopub.status.idle": "2023-08-10T12:38:21.917962Z",
     "shell.execute_reply": "2023-08-10T12:38:21.917161Z"
    }
   },
   "outputs": [],
   "source": [
    "station = qc.Station(config_file=\"example.yaml\")"
   ]
  },
  {
   "cell_type": "code",
   "execution_count": 4,
   "id": "greatest-antenna",
   "metadata": {
    "execution": {
     "iopub.execute_input": "2023-08-10T12:38:21.921852Z",
     "iopub.status.busy": "2023-08-10T12:38:21.921359Z",
     "iopub.status.idle": "2023-08-10T12:38:21.952818Z",
     "shell.execute_reply": "2023-08-10T12:38:21.952010Z"
    }
   },
   "outputs": [],
   "source": [
    "field_X = station.load_field_X()\n",
    "field = station.load_field(station=station)"
   ]
  },
  {
   "cell_type": "code",
   "execution_count": 5,
   "id": "every-playing",
   "metadata": {
    "execution": {
     "iopub.execute_input": "2023-08-10T12:38:21.957397Z",
     "iopub.status.busy": "2023-08-10T12:38:21.956941Z",
     "iopub.status.idle": "2023-08-10T12:38:21.966347Z",
     "shell.execute_reply": "2023-08-10T12:38:21.965670Z"
    }
   },
   "outputs": [
    {
     "data": {
      "text/plain": [
       "0.0"
      ]
     },
     "execution_count": 5,
     "metadata": {},
     "output_type": "execute_result"
    }
   ],
   "source": [
    "field.X()"
   ]
  },
  {
   "cell_type": "code",
   "execution_count": 6,
   "id": "undefined-worst",
   "metadata": {
    "execution": {
     "iopub.execute_input": "2023-08-10T12:38:21.969632Z",
     "iopub.status.busy": "2023-08-10T12:38:21.969370Z",
     "iopub.status.idle": "2023-08-10T12:38:21.973824Z",
     "shell.execute_reply": "2023-08-10T12:38:21.973133Z"
    }
   },
   "outputs": [],
   "source": [
    "field.X(1.)"
   ]
  },
  {
   "cell_type": "code",
   "execution_count": 7,
   "id": "recreational-suggestion",
   "metadata": {
    "execution": {
     "iopub.execute_input": "2023-08-10T12:38:21.977250Z",
     "iopub.status.busy": "2023-08-10T12:38:21.976621Z",
     "iopub.status.idle": "2023-08-10T12:38:21.983592Z",
     "shell.execute_reply": "2023-08-10T12:38:21.982916Z"
    }
   },
   "outputs": [
    {
     "data": {
      "text/plain": [
       "0.00012590090433756512"
      ]
     },
     "execution_count": 7,
     "metadata": {},
     "output_type": "execute_result"
    }
   ],
   "source": [
    "field.X()"
   ]
  },
  {
   "cell_type": "code",
   "execution_count": 8,
   "id": "adopted-exchange",
   "metadata": {
    "execution": {
     "iopub.execute_input": "2023-08-10T12:38:21.986914Z",
     "iopub.status.busy": "2023-08-10T12:38:21.986532Z",
     "iopub.status.idle": "2023-08-10T12:38:21.993516Z",
     "shell.execute_reply": "2023-08-10T12:38:21.992822Z"
    }
   },
   "outputs": [
    {
     "data": {
      "text/plain": [
       "0.0002864837646484375"
      ]
     },
     "execution_count": 8,
     "metadata": {},
     "output_type": "execute_result"
    }
   ],
   "source": [
    "field.X()"
   ]
  },
  {
   "cell_type": "code",
   "execution_count": 9,
   "id": "bound-broadcasting",
   "metadata": {
    "execution": {
     "iopub.execute_input": "2023-08-10T12:38:21.997091Z",
     "iopub.status.busy": "2023-08-10T12:38:21.996528Z",
     "iopub.status.idle": "2023-08-10T12:38:22.003393Z",
     "shell.execute_reply": "2023-08-10T12:38:22.002696Z"
    }
   },
   "outputs": [
    {
     "data": {
      "text/plain": [
       "0.00045617421468098957"
      ]
     },
     "execution_count": 9,
     "metadata": {},
     "output_type": "execute_result"
    }
   ],
   "source": [
    "field.X()"
   ]
  },
  {
   "cell_type": "code",
   "execution_count": 10,
   "id": "casual-ghost",
   "metadata": {
    "execution": {
     "iopub.execute_input": "2023-08-10T12:38:22.006889Z",
     "iopub.status.busy": "2023-08-10T12:38:22.006429Z",
     "iopub.status.idle": "2023-08-10T12:38:22.012659Z",
     "shell.execute_reply": "2023-08-10T12:38:22.011955Z"
    }
   },
   "outputs": [
    {
     "data": {
      "text/plain": [
       "0.0006192485491434733"
      ]
     },
     "execution_count": 10,
     "metadata": {},
     "output_type": "execute_result"
    }
   ],
   "source": [
    "field.X()"
   ]
  },
  {
   "cell_type": "markdown",
   "id": "alike-process",
   "metadata": {},
   "source": [
    "As you can see, the field is now ramped in the background with the specified ramp rate. Now, let's try to create a measurement that uses this ability, and ramps the field in the background while measuring:"
   ]
  },
  {
   "cell_type": "code",
   "execution_count": 11,
   "id": "sustained-tiger",
   "metadata": {
    "execution": {
     "iopub.execute_input": "2023-08-10T12:38:22.016026Z",
     "iopub.status.busy": "2023-08-10T12:38:22.015546Z",
     "iopub.status.idle": "2023-08-10T12:38:22.023119Z",
     "shell.execute_reply": "2023-08-10T12:38:22.022407Z"
    }
   },
   "outputs": [],
   "source": [
    "field.ramp_rate(10.)\n",
    "field_X.field(0.0)"
   ]
  },
  {
   "cell_type": "code",
   "execution_count": 12,
   "id": "pharmaceutical-partition",
   "metadata": {
    "execution": {
     "iopub.execute_input": "2023-08-10T12:38:22.026558Z",
     "iopub.status.busy": "2023-08-10T12:38:22.026036Z",
     "iopub.status.idle": "2023-08-10T12:38:22.030887Z",
     "shell.execute_reply": "2023-08-10T12:38:22.030161Z"
    }
   },
   "outputs": [
    {
     "data": {
      "text/plain": [
       "0.0"
      ]
     },
     "execution_count": 12,
     "metadata": {},
     "output_type": "execute_result"
    }
   ],
   "source": [
    "field.X()"
   ]
  },
  {
   "cell_type": "code",
   "execution_count": 13,
   "id": "happy-ordinance",
   "metadata": {
    "execution": {
     "iopub.execute_input": "2023-08-10T12:38:22.034884Z",
     "iopub.status.busy": "2023-08-10T12:38:22.034392Z",
     "iopub.status.idle": "2023-08-10T12:38:23.261643Z",
     "shell.execute_reply": "2023-08-10T12:38:23.260852Z"
    }
   },
   "outputs": [
    {
     "name": "stdout",
     "output_type": "stream",
     "text": [
      "Starting experimental run with id: 60. \n"
     ]
    }
   ],
   "source": [
    "import time\n",
    "\n",
    "meas = Measurement(station=station)\n",
    "meas.register_parameter(field.X)\n",
    "\n",
    "with meas.run() as datasaver:\n",
    "    for B in [0.1, 0.0]:\n",
    "        field.X(B)\n",
    "        while field.X() != B:\n",
    "            datasaver.add_result((field.X, field.X()))\n",
    "            time.sleep(0.01)\n",
    "    datasaver.flush_data_to_database()"
   ]
  },
  {
   "cell_type": "code",
   "execution_count": 14,
   "id": "short-medium",
   "metadata": {
    "execution": {
     "iopub.execute_input": "2023-08-10T12:38:23.266021Z",
     "iopub.status.busy": "2023-08-10T12:38:23.265512Z",
     "iopub.status.idle": "2023-08-10T12:38:24.045015Z",
     "shell.execute_reply": "2023-08-10T12:38:24.044315Z"
    }
   },
   "outputs": [
    {
     "data": {
      "text/plain": [
       "<Axes: >"
      ]
     },
     "execution_count": 14,
     "metadata": {},
     "output_type": "execute_result"
    },
    {
     "data": {
      "image/png": "[encoded data removed]",
      "text/plain": [
       "<Figure size 640x480 with 1 Axes>"
      ]
     },
     "metadata": {},
     "output_type": "display_data"
    }
   ],
   "source": [
    "datasaver.dataset.to_pandas_dataframe().plot()"
   ]
  },
  {
   "cell_type": "markdown",
   "id": "incomplete-vietnamese",
   "metadata": {},
   "source": [
    "When specifying multiple source parameters on a given parameter, the grouped parameter will automatically return a `namedtuple` that returns both values."
   ]
  },
  {
   "cell_type": "code",
   "execution_count": 15,
   "id": "dangerous-finder",
   "metadata": {
    "execution": {
     "iopub.execute_input": "2023-08-10T12:38:24.048980Z",
     "iopub.status.busy": "2023-08-10T12:38:24.048001Z",
     "iopub.status.idle": "2023-08-10T12:38:24.053520Z",
     "shell.execute_reply": "2023-08-10T12:38:24.052926Z"
    }
   },
   "outputs": [
    {
     "data": {
      "text/plain": [
       "combined(field=0.0, ramp_rate=10.0)"
      ]
     },
     "execution_count": 15,
     "metadata": {},
     "output_type": "execute_result"
    }
   ],
   "source": [
    "field.combined()"
   ]
  },
  {
   "cell_type": "markdown",
   "id": "consolidated-cooper",
   "metadata": {},
   "source": [
    "We can now also create a custom parameter that does a simple calculation based on the current parameters."
   ]
  },
  {
   "cell_type": "code",
   "execution_count": 16,
   "id": "designed-bloom",
   "metadata": {
    "execution": {
     "iopub.execute_input": "2023-08-10T12:38:24.056516Z",
     "iopub.status.busy": "2023-08-10T12:38:24.056028Z",
     "iopub.status.idle": "2023-08-10T12:38:24.060186Z",
     "shell.execute_reply": "2023-08-10T12:38:24.059595Z"
    }
   },
   "outputs": [],
   "source": [
    "import numpy as np\n",
    "\n",
    "\n",
    "def calculate_ramp_time(X, ramp_rate):\n",
    "    \"\"\"Calculate ramp time in seconds\"\"\"\n",
    "    dfield = np.abs(field.target_field - X)\n",
    "    return 60. * dfield/ramp_rate"
   ]
  },
  {
   "cell_type": "code",
   "execution_count": 17,
   "id": "disabled-logic",
   "metadata": {
    "execution": {
     "iopub.execute_input": "2023-08-10T12:38:24.063436Z",
     "iopub.status.busy": "2023-08-10T12:38:24.062715Z",
     "iopub.status.idle": "2023-08-10T12:38:24.066682Z",
     "shell.execute_reply": "2023-08-10T12:38:24.066114Z"
    },
    "scrolled": true
   },
   "outputs": [],
   "source": [
    "field._create_and_add_parameter(\n",
    "    group_name=\"ramp_time\",\n",
    "    station=station,\n",
    "    paths=[\"field_X.field\", \"field_X.ramp_rate\"],\n",
    "    formatter=calculate_ramp_time\n",
    ")"
   ]
  },
  {
   "cell_type": "code",
   "execution_count": 18,
   "id": "adverse-february",
   "metadata": {
    "execution": {
     "iopub.execute_input": "2023-08-10T12:38:24.069944Z",
     "iopub.status.busy": "2023-08-10T12:38:24.069201Z",
     "iopub.status.idle": "2023-08-10T12:38:24.074382Z",
     "shell.execute_reply": "2023-08-10T12:38:24.073815Z"
    }
   },
   "outputs": [
    {
     "data": {
      "text/plain": [
       "6.0"
      ]
     },
     "execution_count": 18,
     "metadata": {},
     "output_type": "execute_result"
    }
   ],
   "source": [
    "field.ramp_rate(1.0)\n",
    "field.target_field = 0.1\n",
    "field.ramp_time()"
   ]
  },
  {
   "cell_type": "code",
   "execution_count": 19,
   "id": "statutory-xerox",
   "metadata": {
    "execution": {
     "iopub.execute_input": "2023-08-10T12:38:24.077502Z",
     "iopub.status.busy": "2023-08-10T12:38:24.076778Z",
     "iopub.status.idle": "2023-08-10T12:38:24.080370Z",
     "shell.execute_reply": "2023-08-10T12:38:24.079801Z"
    }
   },
   "outputs": [],
   "source": [
    "field.X(0.1)"
   ]
  },
  {
   "cell_type": "code",
   "execution_count": 20,
   "id": "varying-auditor",
   "metadata": {
    "execution": {
     "iopub.execute_input": "2023-08-10T12:38:24.083317Z",
     "iopub.status.busy": "2023-08-10T12:38:24.082849Z",
     "iopub.status.idle": "2023-08-10T12:38:24.087815Z",
     "shell.execute_reply": "2023-08-10T12:38:24.087256Z"
    }
   },
   "outputs": [
    {
     "data": {
      "text/plain": [
       "5.994161128997803"
      ]
     },
     "execution_count": 20,
     "metadata": {},
     "output_type": "execute_result"
    }
   ],
   "source": [
    "field.ramp_time()"
   ]
  },
  {
   "cell_type": "code",
   "execution_count": 21,
   "id": "chubby-nickel",
   "metadata": {
    "execution": {
     "iopub.execute_input": "2023-08-10T12:38:24.090619Z",
     "iopub.status.busy": "2023-08-10T12:38:24.090162Z",
     "iopub.status.idle": "2023-08-10T12:38:25.097938Z",
     "shell.execute_reply": "2023-08-10T12:38:25.096585Z"
    }
   },
   "outputs": [
    {
     "data": {
      "text/plain": [
       "4.985443115234375"
      ]
     },
     "execution_count": 21,
     "metadata": {},
     "output_type": "execute_result"
    }
   ],
   "source": [
    "import time\n",
    "\n",
    "time.sleep(1.)\n",
    "field.ramp_time()"
   ]
  },
  {
   "cell_type": "code",
   "execution_count": 22,
   "id": "italian-liberty",
   "metadata": {
    "execution": {
     "iopub.execute_input": "2023-08-10T12:38:25.101878Z",
     "iopub.status.busy": "2023-08-10T12:38:25.101305Z",
     "iopub.status.idle": "2023-08-10T12:38:26.108688Z",
     "shell.execute_reply": "2023-08-10T12:38:26.107747Z"
    }
   },
   "outputs": [
    {
     "data": {
      "text/plain": [
       "3.9743165969848637"
      ]
     },
     "execution_count": 22,
     "metadata": {},
     "output_type": "execute_result"
    }
   ],
   "source": [
    "import time\n",
    "\n",
    "time.sleep(1.)\n",
    "field.ramp_time()"
   ]
  },
  {
   "attachments": {},
   "cell_type": "markdown",
   "id": "c1145a2d",
   "metadata": {},
   "source": [
    "## Devices with channels"
   ]
  },
  {
   "cell_type": "markdown",
   "id": "182693f8",
   "metadata": {},
   "source": [
    "The YAML file below specifies the instruments with the channels/parameters we wish to group into a new instrument, here called \"device\". The first example simply adds the channel 'as is' using self.add_submodule, while the readout parameter is added as a DelegateParameter."
   ]
  },
  {
   "cell_type": "code",
   "execution_count": 23,
   "id": "a88d5103",
   "metadata": {
    "execution": {
     "iopub.execute_input": "2023-08-10T12:38:26.112539Z",
     "iopub.status.busy": "2023-08-10T12:38:26.112119Z",
     "iopub.status.idle": "2023-08-10T12:38:26.117260Z",
     "shell.execute_reply": "2023-08-10T12:38:26.116535Z"
    }
   },
   "outputs": [
    {
     "name": "stdout",
     "output_type": "stream",
     "text": [
      "Overwriting example.yaml\n"
     ]
    }
   ],
   "source": [
    "%%writefile example.yaml\n",
    "\n",
    "instruments:\n",
    "  lockin:\n",
    "    type: qcodes.tests.instrument_mocks.MockLockin\n",
    "\n",
    "  dac:\n",
    "    type: qcodes.tests.instrument_mocks.MockDAC   \n",
    "\n",
    "  device:\n",
    "    type: qcodes.instrument.delegate.DelegateInstrument\n",
    "    init:\n",
    "      parameters:\n",
    "        readout: lockin.X\n",
    "      channels:\n",
    "        gate_1: dac.ch01\n",
    "      set_initial_values_on_load: true\n",
    "      initial_values:\n",
    "        readout: 1e-5\n",
    "        gate_1.voltage.post_delay: 0.01"
   ]
  },
  {
   "cell_type": "code",
   "execution_count": 24,
   "id": "91f2a8ab",
   "metadata": {
    "execution": {
     "iopub.execute_input": "2023-08-10T12:38:26.121040Z",
     "iopub.status.busy": "2023-08-10T12:38:26.120636Z",
     "iopub.status.idle": "2023-08-10T12:38:26.135507Z",
     "shell.execute_reply": "2023-08-10T12:38:26.134703Z"
    }
   },
   "outputs": [],
   "source": [
    "station = qc.Station(config_file=\"example.yaml\")"
   ]
  },
  {
   "cell_type": "code",
   "execution_count": 25,
   "id": "45b22762",
   "metadata": {
    "execution": {
     "iopub.execute_input": "2023-08-10T12:38:26.139259Z",
     "iopub.status.busy": "2023-08-10T12:38:26.138730Z",
     "iopub.status.idle": "2023-08-10T12:38:26.183336Z",
     "shell.execute_reply": "2023-08-10T12:38:26.182538Z"
    }
   },
   "outputs": [],
   "source": [
    "lockin = station.load_lockin()\n",
    "dac = station.load_dac()\n",
    "device = station.load_device(station=station)"
   ]
  },
  {
   "cell_type": "code",
   "execution_count": 26,
   "id": "9bfa54fb",
   "metadata": {
    "execution": {
     "iopub.execute_input": "2023-08-10T12:38:26.187567Z",
     "iopub.status.busy": "2023-08-10T12:38:26.187047Z",
     "iopub.status.idle": "2023-08-10T12:38:26.193019Z",
     "shell.execute_reply": "2023-08-10T12:38:26.192259Z"
    }
   },
   "outputs": [
    {
     "name": "stdout",
     "output_type": "stream",
     "text": [
      "<MockDACChannel: dac_ch01 of MockDAC: dac>\n",
      "0.01\n"
     ]
    }
   ],
   "source": [
    "print(device.gate_1)\n",
    "print(device.gate_1.voltage.post_delay)"
   ]
  },
  {
   "cell_type": "code",
   "execution_count": 27,
   "id": "91d57fe0",
   "metadata": {
    "execution": {
     "iopub.execute_input": "2023-08-10T12:38:26.196434Z",
     "iopub.status.busy": "2023-08-10T12:38:26.195763Z",
     "iopub.status.idle": "2023-08-10T12:38:26.214639Z",
     "shell.execute_reply": "2023-08-10T12:38:26.213899Z"
    }
   },
   "outputs": [
    {
     "name": "stdout",
     "output_type": "stream",
     "text": [
      "0.0\n"
     ]
    },
    {
     "data": {
      "text/plain": [
       "-0.6"
      ]
     },
     "execution_count": 27,
     "metadata": {},
     "output_type": "execute_result"
    }
   ],
   "source": [
    "print(device.gate_1.voltage())\n",
    "device.gate_1.voltage(-0.6)\n",
    "device.gate_1.voltage()"
   ]
  },
  {
   "cell_type": "markdown",
   "id": "37e1c2c3",
   "metadata": {},
   "source": [
    "The second example adds a channel using a custom channel class, which takes the initial channel and its name as input and has a parameter current_valid_ranges."
   ]
  },
  {
   "cell_type": "code",
   "execution_count": 28,
   "id": "7e4becd1",
   "metadata": {
    "execution": {
     "iopub.execute_input": "2023-08-10T12:38:26.218276Z",
     "iopub.status.busy": "2023-08-10T12:38:26.217696Z",
     "iopub.status.idle": "2023-08-10T12:38:26.222620Z",
     "shell.execute_reply": "2023-08-10T12:38:26.221907Z"
    }
   },
   "outputs": [
    {
     "name": "stdout",
     "output_type": "stream",
     "text": [
      "Overwriting example.yaml\n"
     ]
    }
   ],
   "source": [
    "%%writefile example.yaml\n",
    "\n",
    "instruments:\n",
    "  lockin:\n",
    "    type: qcodes.tests.instrument_mocks.MockLockin\n",
    "\n",
    "  dac:\n",
    "    type: qcodes.tests.instrument_mocks.MockDAC   \n",
    "\n",
    "  device:\n",
    "    type: qcodes.instrument.delegate.DelegateInstrument\n",
    "    init:\n",
    "      parameters:\n",
    "        readout: lockin.X\n",
    "      channels:\n",
    "        type: qcodes.tests.instrument_mocks.MockCustomChannel\n",
    "        gate_1: \n",
    "          channel: dac.ch01\n",
    "          current_valid_range: [-0.5, 0]\n",
    "      set_initial_values_on_load: true\n",
    "      initial_values:\n",
    "        readout: 1e-5"
   ]
  },
  {
   "cell_type": "code",
   "execution_count": 29,
   "id": "2e3ca8d5",
   "metadata": {
    "execution": {
     "iopub.execute_input": "2023-08-10T12:38:26.225777Z",
     "iopub.status.busy": "2023-08-10T12:38:26.225398Z",
     "iopub.status.idle": "2023-08-10T12:38:26.228906Z",
     "shell.execute_reply": "2023-08-10T12:38:26.228211Z"
    }
   },
   "outputs": [],
   "source": [
    "lockin.close()\n",
    "dac.close()"
   ]
  },
  {
   "cell_type": "code",
   "execution_count": 30,
   "id": "2f2d2b2b",
   "metadata": {
    "execution": {
     "iopub.execute_input": "2023-08-10T12:38:26.232009Z",
     "iopub.status.busy": "2023-08-10T12:38:26.231566Z",
     "iopub.status.idle": "2023-08-10T12:38:26.275211Z",
     "shell.execute_reply": "2023-08-10T12:38:26.274388Z"
    }
   },
   "outputs": [],
   "source": [
    "station = qc.Station(config_file=\"example.yaml\")\n",
    "lockin = station.load_lockin()\n",
    "dac = station.load_dac()"
   ]
  },
  {
   "cell_type": "code",
   "execution_count": 31,
   "id": "9cb653b0",
   "metadata": {
    "execution": {
     "iopub.execute_input": "2023-08-10T12:38:26.278852Z",
     "iopub.status.busy": "2023-08-10T12:38:26.278445Z",
     "iopub.status.idle": "2023-08-10T12:38:26.295779Z",
     "shell.execute_reply": "2023-08-10T12:38:26.295039Z"
    }
   },
   "outputs": [],
   "source": [
    "device = station.load_device(station=station)"
   ]
  },
  {
   "cell_type": "code",
   "execution_count": 32,
   "id": "433d9646",
   "metadata": {
    "execution": {
     "iopub.execute_input": "2023-08-10T12:38:26.299653Z",
     "iopub.status.busy": "2023-08-10T12:38:26.298952Z",
     "iopub.status.idle": "2023-08-10T12:38:26.303983Z",
     "shell.execute_reply": "2023-08-10T12:38:26.303282Z"
    }
   },
   "outputs": [
    {
     "data": {
      "text/plain": [
       "<MockCustomChannel: dac_gate_1 of MockDAC: dac>"
      ]
     },
     "execution_count": 32,
     "metadata": {},
     "output_type": "execute_result"
    }
   ],
   "source": [
    "device.gate_1"
   ]
  },
  {
   "cell_type": "code",
   "execution_count": 33,
   "id": "3d2b8faa",
   "metadata": {
    "execution": {
     "iopub.execute_input": "2023-08-10T12:38:26.307366Z",
     "iopub.status.busy": "2023-08-10T12:38:26.306666Z",
     "iopub.status.idle": "2023-08-10T12:38:26.310397Z",
     "shell.execute_reply": "2023-08-10T12:38:26.309716Z"
    }
   },
   "outputs": [],
   "source": [
    "device.gate_1.voltage(-0.3)"
   ]
  },
  {
   "cell_type": "code",
   "execution_count": 34,
   "id": "49def342",
   "metadata": {
    "execution": {
     "iopub.execute_input": "2023-08-10T12:38:26.313580Z",
     "iopub.status.busy": "2023-08-10T12:38:26.313102Z",
     "iopub.status.idle": "2023-08-10T12:38:26.318087Z",
     "shell.execute_reply": "2023-08-10T12:38:26.317341Z"
    }
   },
   "outputs": [
    {
     "data": {
      "text/plain": [
       "-0.3"
      ]
     },
     "execution_count": 34,
     "metadata": {},
     "output_type": "execute_result"
    }
   ],
   "source": [
    "device.gate_1.voltage()"
   ]
  },
  {
   "cell_type": "markdown",
   "id": "7b122128",
   "metadata": {},
   "source": [
    "The MockCustomChannel has a parameter `current_valid_range`."
   ]
  },
  {
   "cell_type": "code",
   "execution_count": 35,
   "id": "d32a06fd",
   "metadata": {
    "execution": {
     "iopub.execute_input": "2023-08-10T12:38:26.321987Z",
     "iopub.status.busy": "2023-08-10T12:38:26.321514Z",
     "iopub.status.idle": "2023-08-10T12:38:26.326663Z",
     "shell.execute_reply": "2023-08-10T12:38:26.325944Z"
    }
   },
   "outputs": [
    {
     "data": {
      "text/plain": [
       "[-0.5, 0]"
      ]
     },
     "execution_count": 35,
     "metadata": {},
     "output_type": "execute_result"
    }
   ],
   "source": [
    "device.gate_1.current_valid_range()"
   ]
  }
 ],
 "metadata": {
  "kernelspec": {
   "display_name": "Python 3 (ipykernel)",
   "language": "python",
   "name": "python3"
  },
  "language_info": {
   "codemirror_mode": {
    "name": "ipython",
    "version": 3
   },
   "file_extension": ".py",
   "mimetype": "text/x-python",
   "name": "python",
   "nbconvert_exporter": "python",
   "pygments_lexer": "ipython3",
   "version": "3.10.12"
  }
 },
 "nbformat": 4,
 "nbformat_minor": 5
}
